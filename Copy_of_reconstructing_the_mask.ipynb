{
  "nbformat": 4,
  "nbformat_minor": 0,
  "metadata": {
    "colab": {
      "name": "Copy of reconstructing_the_mask.ipynb",
      "provenance": [],
      "authorship_tag": "ABX9TyNXUnnmrBcPCLsEqeb/5wIF",
      "include_colab_link": true
    },
    "kernelspec": {
      "name": "python3",
      "display_name": "Python 3"
    },
    "language_info": {
      "name": "python"
    }
  },
  "cells": [
    {
      "cell_type": "markdown",
      "metadata": {
        "id": "view-in-github",
        "colab_type": "text"
      },
      "source": [
        "<a href=\"https://colab.research.google.com/github/BeeramVineethReddy/Geno_Intern/blob/master/Copy_of_reconstructing_the_mask.ipynb\" target=\"_parent\"><img src=\"https://colab.research.google.com/assets/colab-badge.svg\" alt=\"Open In Colab\"/></a>"
      ]
    },
    {
      "cell_type": "code",
      "metadata": {
        "id": "Ozt29wqmE6qJ"
      },
      "source": [
        "import cv2\n",
        "\n",
        "img = cv2.imread('mask.png')"
      ],
      "execution_count": null,
      "outputs": []
    },
    {
      "cell_type": "code",
      "metadata": {
        "id": "CdftgH01FCVX"
      },
      "source": [
        "edges = cv2.Canny(img,1,10)"
      ],
      "execution_count": null,
      "outputs": []
    },
    {
      "cell_type": "code",
      "metadata": {
        "colab": {
          "base_uri": "https://localhost:8080/",
          "height": 269
        },
        "id": "RJOrbQOPFFRZ",
        "outputId": "aa3da4da-f5ad-4797-c82e-c823aaff9a33"
      },
      "source": [
        "from matplotlib import pyplot as plt\n",
        "\n",
        "plt.imshow(edges)\n",
        "\n",
        "plt.show()"
      ],
      "execution_count": null,
      "outputs": [
        {
          "output_type": "display_data",
          "data": {
            "image/png": "[encoded data removed]",
            "text/plain": [
              "<Figure size 432x288 with 1 Axes>"
            ]
          },
          "metadata": {
            "tags": [],
            "needs_background": "light"
          }
        }
      ]
    },
    {
      "cell_type": "code",
      "metadata": {
        "id": "LEvdFDWlFL3_"
      },
      "source": [
        "import numpy as np\n",
        "rgb = np.array(edges)"
      ],
      "execution_count": null,
      "outputs": []
    },
    {
      "cell_type": "code",
      "metadata": {
        "colab": {
          "base_uri": "https://localhost:8080/"
        },
        "id": "kkvuIwpNIZ5x",
        "outputId": "752b4b56-97cb-4e42-f77c-6d35200ceb8c"
      },
      "source": [
        "np.shape(rgb)"
      ],
      "execution_count": null,
      "outputs": [
        {
          "output_type": "execute_result",
          "data": {
            "text/plain": [
              "(500, 500)"
            ]
          },
          "metadata": {
            "tags": []
          },
          "execution_count": 76
        }
      ]
    },
    {
      "cell_type": "code",
      "metadata": {
        "id": "gHmKjfiFK2pS"
      },
      "source": [
        "ans = []"
      ],
      "execution_count": null,
      "outputs": []
    },
    {
      "cell_type": "code",
      "metadata": {
        "id": "TS044CMxKOke"
      },
      "source": [
        "for i in range(500):\n",
        "  for j in range(500):\n",
        "    if(rgb[i][j]!=0):\n",
        "      #print(rgb[i][j])\n",
        "      ans.append([i,j])\n"
      ],
      "execution_count": null,
      "outputs": []
    },
    {
      "cell_type": "code",
      "metadata": {
        "colab": {
          "base_uri": "https://localhost:8080/"
        },
        "id": "5eeWfDC4KubN",
        "outputId": "d8989e99-6070-4331-f30c-0c95275326fa"
      },
      "source": [
        "ans"
      ],
      "execution_count": null,
      "outputs": [
        {
          "output_type": "execute_result",
          "data": {
            "text/plain": [
              "[[285, 102],\n",
              " [285, 103],\n",
              " [285, 104],\n",
              " [285, 105],\n",
              " [285, 106],\n",
              " [285, 107],\n",
              " [285, 108],\n",
              " [285, 109],\n",
              " [285, 110],\n",
              " [285, 111],\n",
              " [285, 112],\n",
              " [286, 96],\n",
              " [286, 97],\n",
              " [286, 98],\n",
              " [286, 99],\n",
              " [286, 100],\n",
              " [286, 101],\n",
              " [286, 113],\n",
              " [286, 114],\n",
              " [287, 92],\n",
              " [287, 93],\n",
              " [287, 94],\n",
              " [287, 95],\n",
              " [287, 114],\n",
              " [287, 115],\n",
              " [287, 116],\n",
              " [287, 117],\n",
              " [287, 118],\n",
              " [288, 90],\n",
              " [288, 91],\n",
              " [288, 119],\n",
              " [288, 120],\n",
              " [288, 121],\n",
              " [289, 88],\n",
              " [289, 89],\n",
              " [289, 90],\n",
              " [289, 122],\n",
              " [289, 123],\n",
              " [290, 86],\n",
              " [290, 87],\n",
              " [290, 124],\n",
              " [290, 125],\n",
              " [291, 84],\n",
              " [291, 85],\n",
              " [291, 86],\n",
              " [291, 126],\n",
              " [291, 127],\n",
              " [292, 83],\n",
              " [292, 127],\n",
              " [292, 128],\n",
              " [292, 129],\n",
              " [293, 82],\n",
              " [293, 130],\n",
              " [294, 81],\n",
              " [294, 82],\n",
              " [294, 131],\n",
              " [295, 80],\n",
              " [295, 81],\n",
              " [295, 132],\n",
              " [295, 133],\n",
              " [296, 80],\n",
              " [296, 133],\n",
              " [296, 134],\n",
              " [297, 79],\n",
              " [297, 134],\n",
              " [297, 135],\n",
              " [298, 78],\n",
              " [298, 135],\n",
              " [298, 136],\n",
              " [299, 77],\n",
              " [299, 136],\n",
              " [299, 137],\n",
              " [300, 77],\n",
              " [300, 137],\n",
              " [301, 76],\n",
              " [301, 138],\n",
              " [302, 75],\n",
              " [302, 76],\n",
              " [302, 138],\n",
              " [303, 74],\n",
              " [303, 138],\n",
              " [304, 73],\n",
              " [304, 138],\n",
              " [305, 72],\n",
              " [305, 73],\n",
              " [305, 139],\n",
              " [306, 71],\n",
              " [306, 72],\n",
              " [306, 139],\n",
              " [306, 140],\n",
              " [307, 71],\n",
              " [307, 140],\n",
              " [307, 141],\n",
              " [308, 70],\n",
              " [308, 141],\n",
              " [308, 142],\n",
              " [309, 70],\n",
              " [309, 142],\n",
              " [310, 69],\n",
              " [310, 70],\n",
              " [310, 143],\n",
              " [311, 69],\n",
              " [311, 143],\n",
              " [312, 68],\n",
              " [312, 143],\n",
              " [313, 67],\n",
              " [313, 68],\n",
              " [313, 144],\n",
              " [314, 66],\n",
              " [314, 67],\n",
              " [314, 144],\n",
              " [315, 66],\n",
              " [315, 144],\n",
              " [316, 65],\n",
              " [316, 145],\n",
              " [317, 64],\n",
              " [317, 65],\n",
              " [317, 145],\n",
              " [318, 64],\n",
              " [318, 146],\n",
              " [319, 63],\n",
              " [319, 146],\n",
              " [320, 63],\n",
              " [320, 147],\n",
              " [321, 62],\n",
              " [321, 147],\n",
              " [322, 61],\n",
              " [322, 147],\n",
              " [323, 61],\n",
              " [323, 148],\n",
              " [324, 61],\n",
              " [324, 148],\n",
              " [325, 60],\n",
              " [325, 148],\n",
              " [326, 60],\n",
              " [326, 148],\n",
              " [327, 59],\n",
              " [327, 148],\n",
              " [328, 59],\n",
              " [328, 148],\n",
              " [329, 58],\n",
              " [329, 149],\n",
              " [330, 58],\n",
              " [330, 149],\n",
              " [331, 58],\n",
              " [331, 149],\n",
              " [332, 58],\n",
              " [332, 149],\n",
              " [333, 58],\n",
              " [333, 149],\n",
              " [334, 58],\n",
              " [334, 149],\n",
              " [335, 58],\n",
              " [335, 149],\n",
              " [336, 58],\n",
              " [336, 149],\n",
              " [337, 58],\n",
              " [337, 149],\n",
              " [338, 58],\n",
              " [338, 149],\n",
              " [339, 58],\n",
              " [339, 149],\n",
              " [340, 58],\n",
              " [340, 149],\n",
              " [341, 58],\n",
              " [341, 149],\n",
              " [342, 58],\n",
              " [342, 149],\n",
              " [343, 58],\n",
              " [343, 149],\n",
              " [344, 59],\n",
              " [344, 149],\n",
              " [345, 59],\n",
              " [345, 149],\n",
              " [346, 59],\n",
              " [346, 149],\n",
              " [347, 59],\n",
              " [347, 149],\n",
              " [348, 59],\n",
              " [348, 149],\n",
              " [349, 60],\n",
              " [349, 148],\n",
              " [350, 60],\n",
              " [350, 148],\n",
              " [351, 61],\n",
              " [351, 148],\n",
              " [352, 61],\n",
              " [352, 148],\n",
              " [353, 61],\n",
              " [353, 147],\n",
              " [354, 61],\n",
              " [354, 146],\n",
              " [354, 147],\n",
              " [355, 62],\n",
              " [355, 145],\n",
              " [355, 146],\n",
              " [356, 62],\n",
              " [356, 145],\n",
              " [357, 63],\n",
              " [357, 144],\n",
              " [358, 63],\n",
              " [358, 143],\n",
              " [358, 144],\n",
              " [359, 63],\n",
              " [359, 142],\n",
              " [359, 143],\n",
              " [360, 64],\n",
              " [360, 140],\n",
              " [360, 141],\n",
              " [360, 142],\n",
              " [361, 64],\n",
              " [361, 137],\n",
              " [361, 138],\n",
              " [361, 139],\n",
              " [362, 65],\n",
              " [362, 135],\n",
              " [362, 136],\n",
              " [363, 65],\n",
              " [363, 66],\n",
              " [363, 133],\n",
              " [363, 134],\n",
              " [364, 66],\n",
              " [364, 129],\n",
              " [364, 130],\n",
              " [364, 131],\n",
              " [364, 132],\n",
              " [364, 133],\n",
              " [365, 66],\n",
              " [365, 127],\n",
              " [365, 128],\n",
              " [366, 66],\n",
              " [366, 125],\n",
              " [366, 126],\n",
              " [366, 127],\n",
              " [367, 67],\n",
              " [367, 123],\n",
              " [367, 124],\n",
              " [368, 67],\n",
              " [368, 122],\n",
              " [368, 123],\n",
              " [369, 68],\n",
              " [369, 118],\n",
              " [369, 119],\n",
              " [369, 120],\n",
              " [369, 121],\n",
              " [370, 68],\n",
              " [370, 69],\n",
              " [370, 116],\n",
              " [370, 117],\n",
              " [371, 69],\n",
              " [371, 112],\n",
              " [371, 113],\n",
              " [371, 114],\n",
              " [371, 115],\n",
              " [372, 69],\n",
              " [372, 110],\n",
              " [372, 111],\n",
              " [373, 69],\n",
              " [373, 108],\n",
              " [373, 109],\n",
              " [373, 110],\n",
              " [374, 70],\n",
              " [374, 106],\n",
              " [374, 107],\n",
              " [375, 70],\n",
              " [375, 71],\n",
              " [375, 103],\n",
              " [375, 104],\n",
              " [375, 105],\n",
              " [376, 71],\n",
              " [376, 72],\n",
              " [376, 100],\n",
              " [376, 101],\n",
              " [376, 102],\n",
              " [377, 72],\n",
              " [377, 97],\n",
              " [377, 98],\n",
              " [377, 99],\n",
              " [378, 72],\n",
              " [378, 95],\n",
              " [378, 96],\n",
              " [379, 73],\n",
              " [379, 74],\n",
              " [379, 75],\n",
              " [379, 76],\n",
              " [379, 77],\n",
              " [379, 92],\n",
              " [379, 93],\n",
              " [379, 94],\n",
              " [380, 78],\n",
              " [380, 79],\n",
              " [380, 80],\n",
              " [380, 81],\n",
              " [380, 82],\n",
              " [380, 90],\n",
              " [380, 91],\n",
              " [381, 83],\n",
              " [381, 84],\n",
              " [381, 85],\n",
              " [381, 86],\n",
              " [381, 87],\n",
              " [381, 88],\n",
              " [381, 89],\n",
              " [381, 90]]"
            ]
          },
          "metadata": {
            "tags": []
          },
          "execution_count": 79
        }
      ]
    },
    {
      "cell_type": "code",
      "metadata": {
        "colab": {
          "base_uri": "https://localhost:8080/"
        },
        "id": "brkJa7f5LAhq",
        "outputId": "9eedb15a-28ee-4dfd-a075-9991f66f57f7"
      },
      "source": [
        "res = np.zeros((500,500))\n",
        "res"
      ],
      "execution_count": null,
      "outputs": [
        {
          "output_type": "execute_result",
          "data": {
            "text/plain": [
              "array([[0., 0., 0., ..., 0., 0., 0.],\n",
              "       [0., 0., 0., ..., 0., 0., 0.],\n",
              "       [0., 0., 0., ..., 0., 0., 0.],\n",
              "       ...,\n",
              "       [0., 0., 0., ..., 0., 0., 0.],\n",
              "       [0., 0., 0., ..., 0., 0., 0.],\n",
              "       [0., 0., 0., ..., 0., 0., 0.]])"
            ]
          },
          "metadata": {
            "tags": []
          },
          "execution_count": 80
        }
      ]
    },
    {
      "cell_type": "code",
      "metadata": {
        "id": "gJXiE21HLf6E"
      },
      "source": [
        "for pixel in ans:\n",
        "  #print(pixel)\n",
        "  res[pixel[0]][pixel[1]] = 255"
      ],
      "execution_count": null,
      "outputs": []
    },
    {
      "cell_type": "code",
      "metadata": {
        "colab": {
          "base_uri": "https://localhost:8080/"
        },
        "id": "Q4r6PmseULuf",
        "outputId": "4314f861-ec99-43d9-d2fe-167f73fb7896"
      },
      "source": [
        "cv2.imwrite('img.jpg', res)"
      ],
      "execution_count": null,
      "outputs": [
        {
          "output_type": "execute_result",
          "data": {
            "text/plain": [
              "True"
            ]
          },
          "metadata": {
            "tags": []
          },
          "execution_count": 82
        }
      ]
    },
    {
      "cell_type": "code",
      "metadata": {
        "id": "TlGbiDFkVC9S"
      },
      "source": [
        "img1 = cv2.imread(\"img.jpg\")"
      ],
      "execution_count": null,
      "outputs": []
    },
    {
      "cell_type": "code",
      "metadata": {
        "colab": {
          "base_uri": "https://localhost:8080/",
          "height": 269
        },
        "id": "akxvllKuVfqt",
        "outputId": "f6d0f36e-83e1-4262-f7a4-b67c64162b79"
      },
      "source": [
        "plt.imshow(img1)\n",
        "\n",
        "plt.show()"
      ],
      "execution_count": null,
      "outputs": [
        {
          "output_type": "display_data",
          "data": {
            "image/png": "[encoded data removed]",
            "text/plain": [
              "<Figure size 432x288 with 1 Axes>"
            ]
          },
          "metadata": {
            "tags": [],
            "needs_background": "light"
          }
        }
      ]
    }
  ]
}