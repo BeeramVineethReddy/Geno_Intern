{
  "nbformat": 4,
  "nbformat_minor": 0,
  "metadata": {
    "colab": {
      "name": "reconstructing_the_mask.ipynb",
      "provenance": [],
      "collapsed_sections": [],
      "authorship_tag": "ABX9TyPZEu3coNgnhBacEi4wvjsp",
      "include_colab_link": true
    },
    "kernelspec": {
      "name": "python3",
      "display_name": "Python 3"
    },
    "language_info": {
      "name": "python"
    }
  },
  "cells": [
    {
      "cell_type": "markdown",
      "metadata": {
        "id": "view-in-github",
        "colab_type": "text"
      },
      "source": [
        "<a href=\"https://colab.research.google.com/github/BeeramVineethReddy/Geno_Intern/blob/master/reconstructing_the_mask.ipynb\" target=\"_parent\"><img src=\"https://colab.research.google.com/assets/colab-badge.svg\" alt=\"Open In Colab\"/></a>"
      ]
    },
    {
      "cell_type": "code",
      "metadata": {
        "id": "Ozt29wqmE6qJ"
      },
      "source": [
        "import cv2\n",
        "\n",
        "img = cv2.imread('mask2.png')"
      ],
      "execution_count": 105,
      "outputs": []
    },
    {
      "cell_type": "code",
      "metadata": {
        "id": "CdftgH01FCVX"
      },
      "source": [
        "edges = cv2.Canny(img,1,10)"
      ],
      "execution_count": 106,
      "outputs": []
    },
    {
      "cell_type": "code",
      "metadata": {
        "colab": {
          "base_uri": "https://localhost:8080/",
          "height": 269
        },
        "id": "RJOrbQOPFFRZ",
        "outputId": "73eae9ca-e257-4bab-ae56-6d37eb5b8df0"
      },
      "source": [
        "from matplotlib import pyplot as plt\n",
        "\n",
        "plt.imshow(edges)\n",
        "\n",
        "plt.show()"
      ],
      "execution_count": 107,
      "outputs": [
        {
          "output_type": "display_data",
          "data": {
            "image/png": "[encoded data removed]",
            "text/plain": [
              "<Figure size 432x288 with 1 Axes>"
            ]
          },
          "metadata": {
            "tags": [],
            "needs_background": "light"
          }
        }
      ]
    },
    {
      "cell_type": "code",
      "metadata": {
        "id": "LEvdFDWlFL3_"
      },
      "source": [
        "import numpy as np\n",
        "rgb = np.array(edges)"
      ],
      "execution_count": 108,
      "outputs": []
    },
    {
      "cell_type": "code",
      "metadata": {
        "colab": {
          "base_uri": "https://localhost:8080/"
        },
        "id": "kkvuIwpNIZ5x",
        "outputId": "836836ca-4de3-4d89-ee42-fe3ad0f652fc"
      },
      "source": [
        "np.shape(rgb)"
      ],
      "execution_count": 109,
      "outputs": [
        {
          "output_type": "execute_result",
          "data": {
            "text/plain": [
              "(500, 500)"
            ]
          },
          "metadata": {
            "tags": []
          },
          "execution_count": 109
        }
      ]
    },
    {
      "cell_type": "code",
      "metadata": {
        "id": "gHmKjfiFK2pS"
      },
      "source": [
        "ans = []\n",
        "visited = [[False for x in range(500)] for y in range(500)]\n",
        "#visited"
      ],
      "execution_count": 110,
      "outputs": []
    },
    {
      "cell_type": "code",
      "metadata": {
        "id": "n_fiJi4isijo"
      },
      "source": [
        "def DFS(rgb,visited,tmp,i,j):\n",
        "  tmp.append([i,j])\n",
        "  visited[i][j]=True\n",
        "  if(visited[i][j-1]==False and rgb[i][j-1]!=0):\n",
        "    DFS(rgb,visited,tmp,i,j-1)\n",
        "  if(visited[i][j+1]==False and rgb[i][j+1]!=0):\n",
        "    DFS(rgb,visited,tmp,i,j+1)\n",
        "  if(visited[i-1][j]==False and rgb[i-1][j]!=0):\n",
        "    DFS(rgb,visited,tmp,i-1,j)\n",
        "  if(visited[i+1][j]==False and rgb[i+1][j]!=0):\n",
        "    DFS(rgb,visited,tmp,i+1,j)\n",
        "  \n",
        "  if(visited[i+1][j-1]==False and rgb[i+1][j-1]!=0):\n",
        "    DFS(rgb,visited,tmp,i+1,j-1)\n",
        "  if(visited[i-1][j-1]==False and rgb[i-1][j-1]!=0):\n",
        "    DFS(rgb,visited,tmp,i-1,j-1)\n",
        "  if(visited[i+1][j+1]==False and rgb[i+1][j+1]!=0):\n",
        "    DFS(rgb,visited,tmp,i+1,j+1)\n",
        "  if(visited[i-1][j+1]==False and rgb[i-1][j+1]!=0):\n",
        "    DFS(rgb,visited,tmp,i-1,j+1)"
      ],
      "execution_count": 111,
      "outputs": []
    },
    {
      "cell_type": "code",
      "metadata": {
        "id": "TS044CMxKOke"
      },
      "source": [
        "for i in range(500):\n",
        "  for j in range(500):\n",
        "    if visited[i][j]==False:\n",
        "      if(rgb[i][j]!=0):\n",
        "        t=[]\n",
        "        DFS(rgb,visited,t,i,j)\n",
        "        ans.append(t)\n",
        "      else:\n",
        "        visited[i][j]=True"
      ],
      "execution_count": 112,
      "outputs": []
    },
    {
      "cell_type": "code",
      "metadata": {
        "colab": {
          "base_uri": "https://localhost:8080/"
        },
        "id": "5eeWfDC4KubN",
        "outputId": "20bc3274-a06e-4411-b1d3-b52a4d763413"
      },
      "source": [
        "ans"
      ],
      "execution_count": 113,
      "outputs": [
        {
          "output_type": "execute_result",
          "data": {
            "text/plain": [
              "[[[224, 208],\n",
              "  [224, 209],\n",
              "  [224, 210],\n",
              "  [224, 211],\n",
              "  [224, 212],\n",
              "  [224, 213],\n",
              "  [224, 214],\n",
              "  [224, 215],\n",
              "  [224, 216],\n",
              "  [224, 217],\n",
              "  [225, 218],\n",
              "  [225, 219],\n",
              "  [225, 220],\n",
              "  [225, 221],\n",
              "  [225, 222],\n",
              "  [226, 223],\n",
              "  [226, 224],\n",
              "  [226, 225],\n",
              "  [226, 226],\n",
              "  [226, 227],\n",
              "  [226, 228],\n",
              "  [226, 229],\n",
              "  [227, 230],\n",
              "  [227, 231],\n",
              "  [228, 232],\n",
              "  [228, 233],\n",
              "  [229, 234],\n",
              "  [229, 235],\n",
              "  [229, 236],\n",
              "  [230, 237],\n",
              "  [230, 238],\n",
              "  [231, 239],\n",
              "  [231, 240],\n",
              "  [232, 241],\n",
              "  [232, 242],\n",
              "  [232, 243],\n",
              "  [233, 244],\n",
              "  [233, 245],\n",
              "  [233, 246],\n",
              "  [233, 247],\n",
              "  [233, 248],\n",
              "  [234, 249],\n",
              "  [234, 250],\n",
              "  [235, 250],\n",
              "  [235, 251],\n",
              "  [236, 251],\n",
              "  [236, 252],\n",
              "  [237, 252],\n",
              "  [237, 253],\n",
              "  [238, 254],\n",
              "  [238, 255],\n",
              "  [239, 255],\n",
              "  [239, 256],\n",
              "  [240, 256],\n",
              "  [240, 257],\n",
              "  [241, 257],\n",
              "  [241, 258],\n",
              "  [242, 258],\n",
              "  [242, 259],\n",
              "  [243, 259],\n",
              "  [243, 260],\n",
              "  [244, 260],\n",
              "  [244, 261],\n",
              "  [245, 261],\n",
              "  [245, 262],\n",
              "  [246, 262],\n",
              "  [247, 262],\n",
              "  [248, 262],\n",
              "  [249, 262],\n",
              "  [250, 262],\n",
              "  [251, 262],\n",
              "  [252, 262],\n",
              "  [253, 262],\n",
              "  [254, 262],\n",
              "  [255, 262],\n",
              "  [256, 262],\n",
              "  [257, 262],\n",
              "  [258, 262],\n",
              "  [259, 262],\n",
              "  [260, 261],\n",
              "  [261, 261],\n",
              "  [262, 261],\n",
              "  [262, 260],\n",
              "  [263, 260],\n",
              "  [263, 259],\n",
              "  [264, 259],\n",
              "  [264, 258],\n",
              "  [264, 257],\n",
              "  [264, 256],\n",
              "  [264, 255],\n",
              "  [264, 254],\n",
              "  [264, 253],\n",
              "  [264, 252],\n",
              "  [264, 251],\n",
              "  [264, 250],\n",
              "  [264, 249],\n",
              "  [264, 248],\n",
              "  [264, 247],\n",
              "  [264, 246],\n",
              "  [264, 245],\n",
              "  [264, 244],\n",
              "  [264, 243],\n",
              "  [264, 242],\n",
              "  [264, 241],\n",
              "  [264, 240],\n",
              "  [264, 239],\n",
              "  [264, 238],\n",
              "  [264, 237],\n",
              "  [264, 236],\n",
              "  [264, 235],\n",
              "  [264, 234],\n",
              "  [264, 233],\n",
              "  [264, 232],\n",
              "  [264, 231],\n",
              "  [264, 230],\n",
              "  [264, 229],\n",
              "  [264, 228],\n",
              "  [264, 227],\n",
              "  [264, 226],\n",
              "  [264, 225],\n",
              "  [264, 224],\n",
              "  [264, 223],\n",
              "  [264, 222],\n",
              "  [264, 221],\n",
              "  [264, 220],\n",
              "  [264, 219],\n",
              "  [264, 218],\n",
              "  [264, 217],\n",
              "  [264, 216],\n",
              "  [264, 215],\n",
              "  [264, 214],\n",
              "  [264, 213],\n",
              "  [264, 212],\n",
              "  [264, 211],\n",
              "  [264, 210],\n",
              "  [264, 209],\n",
              "  [264, 208],\n",
              "  [264, 207],\n",
              "  [264, 206],\n",
              "  [264, 205],\n",
              "  [264, 204],\n",
              "  [264, 203],\n",
              "  [264, 202],\n",
              "  [264, 201],\n",
              "  [264, 200],\n",
              "  [264, 199],\n",
              "  [264, 198],\n",
              "  [264, 197],\n",
              "  [264, 196],\n",
              "  [264, 195],\n",
              "  [264, 194],\n",
              "  [264, 193],\n",
              "  [264, 192],\n",
              "  [264, 191],\n",
              "  [264, 190],\n",
              "  [263, 189],\n",
              "  [263, 188],\n",
              "  [263, 187],\n",
              "  [263, 186],\n",
              "  [263, 185],\n",
              "  [263, 184],\n",
              "  [263, 183],\n",
              "  [262, 183],\n",
              "  [262, 182],\n",
              "  [261, 181],\n",
              "  [261, 180],\n",
              "  [260, 180],\n",
              "  [259, 179],\n",
              "  [258, 179],\n",
              "  [257, 179],\n",
              "  [256, 178],\n",
              "  [255, 178],\n",
              "  [254, 177],\n",
              "  [253, 177],\n",
              "  [252, 177],\n",
              "  [252, 176],\n",
              "  [251, 176],\n",
              "  [250, 175],\n",
              "  [249, 175],\n",
              "  [248, 175],\n",
              "  [247, 175],\n",
              "  [246, 174],\n",
              "  [245, 174],\n",
              "  [244, 174],\n",
              "  [243, 174],\n",
              "  [242, 174],\n",
              "  [241, 173],\n",
              "  [240, 173],\n",
              "  [239, 173],\n",
              "  [238, 173],\n",
              "  [237, 173],\n",
              "  [236, 173],\n",
              "  [235, 173],\n",
              "  [234, 174],\n",
              "  [233, 174],\n",
              "  [233, 175],\n",
              "  [232, 175],\n",
              "  [232, 176],\n",
              "  [231, 177],\n",
              "  [231, 178],\n",
              "  [230, 179],\n",
              "  [230, 180],\n",
              "  [230, 181],\n",
              "  [230, 182],\n",
              "  [229, 183],\n",
              "  [229, 184],\n",
              "  [229, 185],\n",
              "  [229, 186],\n",
              "  [228, 187],\n",
              "  [228, 188],\n",
              "  [228, 189],\n",
              "  [228, 190],\n",
              "  [228, 191],\n",
              "  [228, 192],\n",
              "  [227, 193],\n",
              "  [227, 194],\n",
              "  [227, 195],\n",
              "  [226, 196],\n",
              "  [226, 197],\n",
              "  [226, 198],\n",
              "  [225, 199],\n",
              "  [225, 200],\n",
              "  [225, 201],\n",
              "  [225, 202],\n",
              "  [225, 203],\n",
              "  [225, 204],\n",
              "  [225, 205],\n",
              "  [225, 206],\n",
              "  [225, 207]],\n",
              " [[371, 270],\n",
              "  [371, 271],\n",
              "  [371, 272],\n",
              "  [371, 273],\n",
              "  [371, 274],\n",
              "  [372, 275],\n",
              "  [372, 276],\n",
              "  [372, 277],\n",
              "  [372, 278],\n",
              "  [372, 279],\n",
              "  [372, 280],\n",
              "  [372, 281],\n",
              "  [373, 282],\n",
              "  [373, 283],\n",
              "  [374, 284],\n",
              "  [374, 285],\n",
              "  [374, 286],\n",
              "  [374, 287],\n",
              "  [375, 288],\n",
              "  [375, 289],\n",
              "  [375, 290],\n",
              "  [376, 291],\n",
              "  [376, 292],\n",
              "  [376, 293],\n",
              "  [376, 294],\n",
              "  [377, 295],\n",
              "  [377, 296],\n",
              "  [377, 297],\n",
              "  [377, 298],\n",
              "  [378, 299],\n",
              "  [378, 300],\n",
              "  [379, 300],\n",
              "  [379, 301],\n",
              "  [380, 302],\n",
              "  [380, 303],\n",
              "  [380, 304],\n",
              "  [381, 305],\n",
              "  [381, 306],\n",
              "  [382, 306],\n",
              "  [382, 307],\n",
              "  [383, 308],\n",
              "  [383, 309],\n",
              "  [384, 310],\n",
              "  [384, 311],\n",
              "  [385, 311],\n",
              "  [385, 312],\n",
              "  [386, 312],\n",
              "  [386, 313],\n",
              "  [387, 313],\n",
              "  [387, 314],\n",
              "  [388, 314],\n",
              "  [388, 315],\n",
              "  [389, 315],\n",
              "  [390, 316],\n",
              "  [391, 316],\n",
              "  [391, 317],\n",
              "  [392, 317],\n",
              "  [392, 318],\n",
              "  [393, 318],\n",
              "  [394, 318],\n",
              "  [395, 318],\n",
              "  [396, 318],\n",
              "  [397, 318],\n",
              "  [398, 318],\n",
              "  [399, 318],\n",
              "  [400, 318],\n",
              "  [401, 318],\n",
              "  [402, 318],\n",
              "  [403, 318],\n",
              "  [404, 318],\n",
              "  [404, 317],\n",
              "  [405, 316],\n",
              "  [405, 315],\n",
              "  [406, 315],\n",
              "  [406, 314],\n",
              "  [407, 314],\n",
              "  [407, 313],\n",
              "  [408, 313],\n",
              "  [408, 312],\n",
              "  [409, 311],\n",
              "  [409, 310],\n",
              "  [410, 310],\n",
              "  [410, 309],\n",
              "  [411, 308],\n",
              "  [411, 307],\n",
              "  [412, 306],\n",
              "  [412, 305],\n",
              "  [413, 305],\n",
              "  [413, 304],\n",
              "  [413, 303],\n",
              "  [413, 302],\n",
              "  [413, 301],\n",
              "  [413, 300],\n",
              "  [413, 299],\n",
              "  [413, 298],\n",
              "  [413, 297],\n",
              "  [413, 296],\n",
              "  [413, 295],\n",
              "  [413, 294],\n",
              "  [413, 293],\n",
              "  [413, 292],\n",
              "  [413, 291],\n",
              "  [413, 290],\n",
              "  [413, 289],\n",
              "  [413, 288],\n",
              "  [413, 287],\n",
              "  [413, 286],\n",
              "  [413, 285],\n",
              "  [413, 284],\n",
              "  [413, 283],\n",
              "  [412, 282],\n",
              "  [412, 281],\n",
              "  [412, 280],\n",
              "  [412, 279],\n",
              "  [412, 278],\n",
              "  [412, 277],\n",
              "  [412, 276],\n",
              "  [412, 275],\n",
              "  [412, 274],\n",
              "  [412, 273],\n",
              "  [412, 272],\n",
              "  [412, 271],\n",
              "  [412, 270],\n",
              "  [412, 269],\n",
              "  [412, 268],\n",
              "  [412, 267],\n",
              "  [412, 266],\n",
              "  [412, 265],\n",
              "  [412, 264],\n",
              "  [411, 263],\n",
              "  [411, 262],\n",
              "  [410, 261],\n",
              "  [410, 260],\n",
              "  [410, 259],\n",
              "  [410, 258],\n",
              "  [409, 258],\n",
              "  [409, 257],\n",
              "  [408, 256],\n",
              "  [408, 255],\n",
              "  [407, 254],\n",
              "  [407, 253],\n",
              "  [407, 252],\n",
              "  [407, 251],\n",
              "  [407, 250],\n",
              "  [406, 250],\n",
              "  [406, 249],\n",
              "  [405, 248],\n",
              "  [405, 247],\n",
              "  [404, 246],\n",
              "  [403, 245],\n",
              "  [402, 245],\n",
              "  [402, 244],\n",
              "  [401, 244],\n",
              "  [401, 243],\n",
              "  [400, 243],\n",
              "  [399, 242],\n",
              "  [398, 242],\n",
              "  [397, 242],\n",
              "  [396, 241],\n",
              "  [395, 241],\n",
              "  [394, 241],\n",
              "  [393, 241],\n",
              "  [392, 241],\n",
              "  [391, 241],\n",
              "  [390, 241],\n",
              "  [389, 240],\n",
              "  [388, 240],\n",
              "  [387, 240],\n",
              "  [386, 240],\n",
              "  [385, 240],\n",
              "  [384, 240],\n",
              "  [383, 241],\n",
              "  [382, 241],\n",
              "  [382, 242],\n",
              "  [381, 242],\n",
              "  [381, 243],\n",
              "  [380, 243],\n",
              "  [380, 244],\n",
              "  [379, 244],\n",
              "  [378, 245],\n",
              "  [377, 246],\n",
              "  [377, 247],\n",
              "  [376, 247],\n",
              "  [376, 248],\n",
              "  [375, 249],\n",
              "  [375, 250],\n",
              "  [375, 251],\n",
              "  [374, 252],\n",
              "  [374, 253],\n",
              "  [373, 254],\n",
              "  [373, 255],\n",
              "  [373, 256],\n",
              "  [373, 257],\n",
              "  [373, 258],\n",
              "  [372, 259],\n",
              "  [372, 260],\n",
              "  [372, 261],\n",
              "  [372, 262],\n",
              "  [372, 263],\n",
              "  [372, 264],\n",
              "  [372, 265],\n",
              "  [372, 266],\n",
              "  [372, 267],\n",
              "  [372, 268],\n",
              "  [372, 269]]]"
            ]
          },
          "metadata": {
            "tags": []
          },
          "execution_count": 113
        }
      ]
    },
    {
      "cell_type": "code",
      "metadata": {
        "colab": {
          "base_uri": "https://localhost:8080/"
        },
        "id": "brkJa7f5LAhq",
        "outputId": "9a3a77fe-4fd5-4645-ec37-7c9af3352095"
      },
      "source": [
        "res = np.zeros((500,500))\n",
        "res"
      ],
      "execution_count": 114,
      "outputs": [
        {
          "output_type": "execute_result",
          "data": {
            "text/plain": [
              "array([[0., 0., 0., ..., 0., 0., 0.],\n",
              "       [0., 0., 0., ..., 0., 0., 0.],\n",
              "       [0., 0., 0., ..., 0., 0., 0.],\n",
              "       ...,\n",
              "       [0., 0., 0., ..., 0., 0., 0.],\n",
              "       [0., 0., 0., ..., 0., 0., 0.],\n",
              "       [0., 0., 0., ..., 0., 0., 0.]])"
            ]
          },
          "metadata": {
            "tags": []
          },
          "execution_count": 114
        }
      ]
    },
    {
      "cell_type": "code",
      "metadata": {
        "id": "gJXiE21HLf6E"
      },
      "source": [
        "for each in ans:\n",
        "  for pixel in each:\n",
        "  #print(pixel)\n",
        "    res[pixel[0]][pixel[1]] = 255"
      ],
      "execution_count": 115,
      "outputs": []
    },
    {
      "cell_type": "code",
      "metadata": {
        "colab": {
          "base_uri": "https://localhost:8080/"
        },
        "id": "Q4r6PmseULuf",
        "outputId": "426e9a3a-2235-47cf-b1b4-13ddad3a59eb"
      },
      "source": [
        "cv2.imwrite('img.jpg', res)"
      ],
      "execution_count": 116,
      "outputs": [
        {
          "output_type": "execute_result",
          "data": {
            "text/plain": [
              "True"
            ]
          },
          "metadata": {
            "tags": []
          },
          "execution_count": 116
        }
      ]
    },
    {
      "cell_type": "code",
      "metadata": {
        "id": "TlGbiDFkVC9S"
      },
      "source": [
        "img1 = cv2.imread(\"img.jpg\")"
      ],
      "execution_count": 117,
      "outputs": []
    },
    {
      "cell_type": "code",
      "metadata": {
        "colab": {
          "base_uri": "https://localhost:8080/",
          "height": 269
        },
        "id": "akxvllKuVfqt",
        "outputId": "88398683-dd4a-4650-a573-d69d8b252626"
      },
      "source": [
        "plt.imshow(img1)\n",
        "\n",
        "plt.show()"
      ],
      "execution_count": 118,
      "outputs": [
        {
          "output_type": "display_data",
          "data": {
            "image/png": "[encoded data removed]",
            "text/plain": [
              "<Figure size 432x288 with 1 Axes>"
            ]
          },
          "metadata": {
            "tags": [],
            "needs_background": "light"
          }
        }
      ]
    },
    {
      "cell_type": "code",
      "metadata": {
        "colab": {
          "base_uri": "https://localhost:8080/"
        },
        "id": "844JTzDsvqb7",
        "outputId": "61d87f19-839c-4be3-9fa7-d2c3306fcd50"
      },
      "source": [
        "len(ans)"
      ],
      "execution_count": 119,
      "outputs": [
        {
          "output_type": "execute_result",
          "data": {
            "text/plain": [
              "2"
            ]
          },
          "metadata": {
            "tags": []
          },
          "execution_count": 119
        }
      ]
    },
    {
      "cell_type": "code",
      "metadata": {
        "id": "Z-FTzupivv-E"
      },
      "source": [
        ""
      ],
      "execution_count": 119,
      "outputs": []
    }
  ]
}